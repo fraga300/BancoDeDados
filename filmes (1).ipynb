{
 "cells": [
  {
   "cell_type": "code",
   "execution_count": null,
   "id": "becafc47-e1ea-437a-b2f4-4e0c15bf2a5d",
   "metadata": {},
   "outputs": [
    {
     "name": "stdout",
     "output_type": "stream",
     "text": [
      "                         Filme       Genero     Estúdio            Diretor  \\\n",
      "0                       Barbie     Aventura      Mattel       Greta Gerwig   \n",
      "1             Super Mario Bros     Animação  Ilumantion      Aaron Horvath   \n",
      "2                  Oppenheimer        Drama   Universal  Christopher Nolan   \n",
      "3  Guardiões da Galáxia Vol. 3  Super heroi      Disney          James Gun   \n",
      "4        Velozes e Furiosos 10         Ação   Universal    Louis Leterrier   \n",
      "\n",
      "  Bilheteria Critica  Ano_Lancamento  \n",
      "0    R$ 1.4B     6,8            2023  \n",
      "1    R$ 1.4B       7            2023  \n",
      "2    R$ 952M     8,3            2023  \n",
      "3    R$ 845M       8            2023  \n",
      "4    R$ 704M     5,7            2023  \n",
      "                         Filme       Genero     Estúdio            Diretor  \\\n",
      "0                       Barbie     Aventura      Mattel       Greta Gerwig   \n",
      "1             Super Mario Bros     Animação  Ilumantion      Aaron Horvath   \n",
      "2                  Oppenheimer        Drama   Universal  Christopher Nolan   \n",
      "3  Guardiões da Galáxia Vol. 3  Super heroi      Disney          James Gun   \n",
      "4        Velozes e Furiosos 10         Ação   Universal    Louis Leterrier   \n",
      "\n",
      "  Bilheteria Critica  Ano_Lancamento  \n",
      "0    R$ 1.4B     6,8            2023  \n",
      "1    R$ 1.4B       7            2023  \n",
      "2    R$ 952M     8,3            2023  \n",
      "3    R$ 845M       8            2023  \n",
      "4    R$ 704M     5,7            2023  \n"
     ]
    }
   ],
   "source": [
    "import pandas as pd # Biblioteca para manipulação e análise de dados.\n",
    "import matplotlib.pyplot as plt #Usada para criar gráficos.#\n",
    "import seaborn as sns #Biblioteca que torna os gráficos mais bonitos e simples de criar.\n",
    "import numpy as np #Biblioteca para operações matemáticas e manipulação de arrays\n",
    "\n",
    "# Carregar dados do arquivo CSV \n",
    "df = pd.read_csv(r\"C:\\Users\\Usuario\\Documents\\Teste\\BancoDeDados\\dados.csv.csv\")\n",
    "print(df.head()) \n",
    "df.columns = df.columns.str.strip()\n",
    "print(\"123\")"
   ]
  },
  {
   "cell_type": "code",
   "execution_count": null,
   "id": "eefbb59b",
   "metadata": {},
   "outputs": [],
   "source": [
    "# Remover valores ausentes\n",
    "df = df.dropna()\n",
    "\n",
    "# Padronizar nomes das colunas, se necessário\n",
    "df.columns = df.columns.str.strip()\n",
    "df['Estúdio'] = df['Estúdio'].str.strip()"
   ]
  },
  {
   "cell_type": "code",
   "execution_count": null,
   "id": "90b273ee-5566-4fe6-805b-addcfa59369c",
   "metadata": {},
   "outputs": [],
   "source": [
    "class FilmAnalysis:\n",
    "    def _init_(self, file_path):\n",
    "        self.df = pd.read_csv(file_path)\n",
    "        self.limpar_dados()\n",
    "    \n",
    "    def limpar_dados(self):\n",
    "        \"\"\"Limpa e prepara os dados.\"\"\"\n",
    "        self.df = self.df.dropna() # Remove linhas com valores ausentes.\n",
    "        self.df.columns = self.df.columns.str.strip() # Remove espaços em branco dos nomes das colunas.\n",
    "        self.df['Estúdio'] = self.df['Estúdio'].str.strip() #Remove espaços em branco dos nomes das colunas.\n",
    "        self.df['Bilheteria'] = self.df['Bilheteria'].apply(self.converter_bilheteria) #Converte valores da coluna \"Bilheteria\" para números.\n",
    "        self.df = self.df.dropna(subset=['Bilheteria']) #:Remove linhas onde a bilheteria ainda está ausente.\n",
    "        self.df['Bilheteria'] = pd.to_numeric(self.df['Bilheteria'], errors='coerce') #: .Garante que os valores de \"Bilheteria\" sejam numéricos.\n",
    "    \n",
    "    @staticmethod\n",
    "    def converter_bilheteria(value):\n",
    "        \"\"\"Converte valores de bilheteria para números.\"\"\"\n",
    "        value = value.replace(\"R$\", \"\").replace(\"$\", \"\").replace(\",\", \".\").strip()\n",
    "        if 'B' in value:\n",
    "            return float(value.replace(\"B\", \"\")) * 1_000_000_000\n",
    "        elif 'M' in value:\n",
    "            return float(value.replace(\"M\", \"\")) * 1_000_000\n",
    "        else:\n",
    "            return float(value)\n",
    "    \n",
    "    def plotar_popularidade_generos(self):\n",
    "        \"\"\"Plota a popularidade dos gêneros ao longo dos anos.\"\"\"\n",
    "        plt.figure(figsize=(10, 6))\n",
    "        sns.countplot(data=self.df, x='Ano_Lancamento', hue='Genero', palette='muted')\n",
    "        plt.title(\"Popularidade dos Gêneros de Filmes ao Longo dos Anos\")\n",
    "        plt.xlabel(\"Ano de Lançamento\")\n",
    "        plt.ylabel(\"Quantidade de Filmes\")\n",
    "        plt.legend(title=\"Gênero\")\n",
    "        plt.xticks(rotation=45)\n",
    "        plt.show()\n",
    "    \n",
    "    def plotar_tendencias_lancamento(self):\n",
    "        \"\"\"Plota tendências de lançamento de filmes ao longo dos anos.\"\"\"\n",
    "        anos = self.df.groupby('Ano_Lancamento').size()\n",
    "        plt.figure(figsize=(10, 6))\n",
    "        sns.lineplot(x=anos.index, y=anos.values, marker='o')\n",
    "        plt.title(\"Tendências de Lançamento de Filmes ao Longo dos Anos\")\n",
    "        plt.xlabel(\"Ano de Lançamento\")\n",
    "        plt.ylabel(\"Quantidade de Filmes Lançados\")\n",
    "        plt.show()\n",
    "    \n",
    "    def plotar_bilheteria_mundial(self):\n",
    "        \"\"\"Plota a bilheteria mundial por filme.\"\"\"\n",
    "        plt.figure(figsize=(14, 8))\n",
    "        sns.barplot(data=self.df, x='Filme', y='Bilheteria', hue='Filme', palette='Blues_d', dodge=False)\n",
    "        plt.title(\"Distribuição de Bilheteria Mundial por Filme\")\n",
    "        plt.xlabel(\"Filme\")\n",
    "        plt.ylabel(\"Bilheteria (em bilhões)\")\n",
    "        plt.xticks(rotation=90)\n",
    "        plt.legend().remove()  # Remove a legenda\n",
    "        plt.show()\n",
    "    \n",
    "    def plotar_participacao_estudios(self):\n",
    "        \"\"\"Plota a participação percentual dos estúdios.\"\"\"\n",
    "        plt.figure(figsize=(13, 13))\n",
    "        self.df['Estúdio'].value_counts().plot.pie(\n",
    "            autopct='%1.1f%%', \n",
    "            startangle=140, \n",
    "            colors=sns.color_palette(\"pastel\"),\n",
    "            textprops={'fontsize': 10}\n",
    "        )\n",
    "        plt.title(\"Participação de Estúdios na Produção de Filmes\", fontsize=14)\n",
    "        plt.ylabel('')\n",
    "        plt.show()\n",
    "    \n",
    "    def plotar_distribuicao_bilheteria_genero(self):\n",
    "        \"\"\"Plota a distribuição de bilheteria por gênero.\"\"\"\n",
    "        plt.figure(figsize=(12, 8))\n",
    "        sns.boxplot(data=self.df, x='Genero', y='Bilheteria', palette='Set3')\n",
    "        plt.title(\"Distribuição de Bilheteria por Gênero\")\n",
    "        plt.xlabel(\"Gênero\")\n",
    "        plt.ylabel(\"Bilheteria (em milhões)\")\n",
    "        plt.xticks(rotation=45)\n",
    "        plt.show()\n",
    "    \n",
    "    def plotar_comparacao_bilheteria_estudios(self):\n",
    "        \"\"\"Compara a bilheteria total por estúdio.\"\"\"\n",
    "        studio_revenue = self.df.groupby('Estúdio')['Bilheteria'].sum().sort_values(ascending=False)\n",
    "        plt.figure(figsize=(14, 8))\n",
    "        studio_revenue.plot(kind='bar', color='skyblue')\n",
    "        plt.title(\"Comparação de Bilheteria por Estúdio\")\n",
    "        plt.xlabel(\"Estúdio\")\n",
    "        plt.ylabel(\"Bilheteria Total (em milhões)\")\n",
    "        plt.xticks(rotation=45)\n",
    "        plt.show()\n",
    "\n",
    "# Exemplo de uso\n",
    "file_path = r\"C:\\Users\\joaos\\Documents\\dados.csv.csv\"\n",
    "analysis = FilmAnalysis(file_path)\n",
    "\n",
    "analysis.plotar_popularidade_generos()"
   ]
  },
  {
   "cell_type": "code",
   "execution_count": null,
   "id": "e76a6155",
   "metadata": {},
   "outputs": [],
   "source": [
    "analysis.plotar_tendencias_lancamento()"
   ]
  },
  {
   "cell_type": "code",
   "execution_count": null,
   "id": "b7177307",
   "metadata": {},
   "outputs": [],
   "source": [
    "analysis.plotar_bilheteria_mundial()"
   ]
  },
  {
   "cell_type": "code",
   "execution_count": null,
   "id": "b5085907",
   "metadata": {},
   "outputs": [],
   "source": [
    "analysis.plotar_participacao_estudios()"
   ]
  },
  {
   "cell_type": "code",
   "execution_count": null,
   "id": "ea3b467a",
   "metadata": {},
   "outputs": [],
   "source": [
    "analysis.plotar_distribuicao_bilheteria_genero()"
   ]
  },
  {
   "cell_type": "code",
   "execution_count": null,
   "id": "b89e3790",
   "metadata": {},
   "outputs": [],
   "source": [
    "analysis.plotar_comparacao_bilheteria_estudios()"
   ]
  }
 ],
 "metadata": {
  "kernelspec": {
   "display_name": "Python 3 (ipykernel)",
   "language": "python",
   "name": "python3"
  },
  "language_info": {
   "codemirror_mode": {
    "name": "ipython",
    "version": 3
   },
   "file_extension": ".py",
   "mimetype": "text/x-python",
   "name": "python",
   "nbconvert_exporter": "python",
   "pygments_lexer": "ipython3",
   "version": "3.12.4"
  }
 },
 "nbformat": 4,
 "nbformat_minor": 5
}
